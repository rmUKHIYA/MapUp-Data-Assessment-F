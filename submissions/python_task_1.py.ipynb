{
 "cells": [
  {
   "cell_type": "code",
   "execution_count": 2,
   "id": "b67efc71-7afd-4f31-8d6f-2a620fed715c",
   "metadata": {},
   "outputs": [],
   "source": [
    "import pandas as pd\n",
    "\n"
   ]
  },
  {
   "cell_type": "code",
   "execution_count": 20,
   "id": "188b5405-7366-4cf2-b893-ec262c6a0abf",
   "metadata": {},
   "outputs": [],
   "source": [
    "df=pd.read_csv(\"dataset-1.csv\")"
   ]
  },
  {
   "cell_type": "code",
   "execution_count": 28,
   "id": "1048dcce-72ba-4133-be24-a09ff85246f6",
   "metadata": {},
   "outputs": [
    {
     "data": {
      "text/html": [
       "<div>\n",
       "<style scoped>\n",
       "    .dataframe tbody tr th:only-of-type {\n",
       "        vertical-align: middle;\n",
       "    }\n",
       "\n",
       "    .dataframe tbody tr th {\n",
       "        vertical-align: top;\n",
       "    }\n",
       "\n",
       "    .dataframe thead th {\n",
       "        text-align: right;\n",
       "    }\n",
       "</style>\n",
       "<table border=\"1\" class=\"dataframe\">\n",
       "  <thead>\n",
       "    <tr style=\"text-align: right;\">\n",
       "      <th></th>\n",
       "      <th>id_1</th>\n",
       "      <th>id_2</th>\n",
       "      <th>route</th>\n",
       "      <th>moto</th>\n",
       "      <th>car</th>\n",
       "      <th>rv</th>\n",
       "      <th>bus</th>\n",
       "      <th>truck</th>\n",
       "    </tr>\n",
       "  </thead>\n",
       "  <tbody>\n",
       "    <tr>\n",
       "      <th>0</th>\n",
       "      <td>829</td>\n",
       "      <td>827</td>\n",
       "      <td>1</td>\n",
       "      <td>2.05</td>\n",
       "      <td>4.14</td>\n",
       "      <td>4.14</td>\n",
       "      <td>10.1</td>\n",
       "      <td>15.2</td>\n",
       "    </tr>\n",
       "    <tr>\n",
       "      <th>1</th>\n",
       "      <td>829</td>\n",
       "      <td>821</td>\n",
       "      <td>4</td>\n",
       "      <td>6.63</td>\n",
       "      <td>13.26</td>\n",
       "      <td>13.26</td>\n",
       "      <td>32.4</td>\n",
       "      <td>48.5</td>\n",
       "    </tr>\n",
       "    <tr>\n",
       "      <th>2</th>\n",
       "      <td>829</td>\n",
       "      <td>804</td>\n",
       "      <td>7</td>\n",
       "      <td>14.41</td>\n",
       "      <td>28.92</td>\n",
       "      <td>28.92</td>\n",
       "      <td>64.7</td>\n",
       "      <td>97.0</td>\n",
       "    </tr>\n",
       "    <tr>\n",
       "      <th>3</th>\n",
       "      <td>829</td>\n",
       "      <td>822</td>\n",
       "      <td>6</td>\n",
       "      <td>5.90</td>\n",
       "      <td>11.81</td>\n",
       "      <td>11.81</td>\n",
       "      <td>28.8</td>\n",
       "      <td>43.2</td>\n",
       "    </tr>\n",
       "    <tr>\n",
       "      <th>4</th>\n",
       "      <td>829</td>\n",
       "      <td>826</td>\n",
       "      <td>9</td>\n",
       "      <td>2.87</td>\n",
       "      <td>5.81</td>\n",
       "      <td>5.81</td>\n",
       "      <td>14.2</td>\n",
       "      <td>21.2</td>\n",
       "    </tr>\n",
       "  </tbody>\n",
       "</table>\n",
       "</div>"
      ],
      "text/plain": [
       "   id_1  id_2  route   moto    car     rv   bus  truck\n",
       "0   829   827      1   2.05   4.14   4.14  10.1   15.2\n",
       "1   829   821      4   6.63  13.26  13.26  32.4   48.5\n",
       "2   829   804      7  14.41  28.92  28.92  64.7   97.0\n",
       "3   829   822      6   5.90  11.81  11.81  28.8   43.2\n",
       "4   829   826      9   2.87   5.81   5.81  14.2   21.2"
      ]
     },
     "execution_count": 28,
     "metadata": {},
     "output_type": "execute_result"
    }
   ],
   "source": [
    "df.head()"
   ]
  },
  {
   "cell_type": "markdown",
   "id": "940f4f18-a908-45b4-befb-331db7d7fbbe",
   "metadata": {},
   "source": [
    "# Q1. Car matrix"
   ]
  },
  {
   "cell_type": "code",
   "execution_count": 31,
   "id": "2aa4da62-cad7-4767-898b-98d5c6e3a4a4",
   "metadata": {},
   "outputs": [],
   "source": [
    "df=df.fillna(0, inplace=True)"
   ]
  },
  {
   "cell_type": "code",
   "execution_count": 14,
   "id": "8621d41e-bbca-45de-9145-40db89f867d8",
   "metadata": {},
   "outputs": [],
   "source": [
    "\n",
    "def generate_car_matrix(dataset_path):\n",
    "   \n",
    "    df = pd.read_csv(dataset_path)\n",
    "\n",
    "\n",
    "    \n",
    "    car_matrix = df.pivot(index='id_1', columns='id_2', values='car')\n",
    "\n",
    "  \n",
    "    num_rows, num_cols = df.shape\n",
    "    for i in range(min(num_rows,num_cols)):\n",
    "        car_matrix.iloc[i,i]=0\n",
    "\n",
    "    car_matrix.fillna(0, inplace=True)\n",
    "\n",
    "\n",
    "    \n",
    "    \n",
    "\n",
    "    return car_matrix\n",
    "\n",
    "\n"
   ]
  },
  {
   "cell_type": "code",
   "execution_count": 55,
   "id": "d85791ca-2f4a-48e5-a7be-558185d6de72",
   "metadata": {},
   "outputs": [
    {
     "name": "stdout",
     "output_type": "stream",
     "text": [
      "id_2    801    802    803    804    805    806    807    808    809    821  \\\n",
      "id_1                                                                         \n",
      "801    0.00   2.80   6.00   7.70  11.70  13.40  16.90  19.60  21.00  23.52   \n",
      "802    2.80   0.00   3.40   5.20   9.20  10.90  14.30  17.10  18.50  20.92   \n",
      "803    6.00   3.40   0.00   2.00   6.00   7.70  11.10  13.90  15.30  17.72   \n",
      "804    7.70   5.20   2.00   0.00   4.40   6.10   9.50  12.30  13.70  16.12   \n",
      "805   11.70   9.20   6.00   4.40   0.00   2.00   5.40   8.20   9.60  12.02   \n",
      "806   13.40  10.90   7.70   6.10   2.00   0.00   3.80   6.60   8.00  10.42   \n",
      "807   16.90  14.30  11.10   9.50   5.40   3.80   0.00   2.90   4.30   6.82   \n",
      "808   19.60  17.10  13.90  12.30   8.20   6.60   2.90   0.00   1.70   4.12   \n",
      "809   21.00  18.50  15.30  13.70   9.60   8.00   4.30   1.70   0.00   2.92   \n",
      "821   23.52  20.92  17.72  16.12  12.02  10.42   6.82   4.12   2.92   0.00   \n",
      "822   24.67  22.07  18.87  17.27  13.17  11.57   7.97   5.27   4.07   1.80   \n",
      "823   26.53  23.93  20.73  19.13  15.03  13.43   9.83   7.13   5.93   3.67   \n",
      "824   27.92  25.32  22.12  20.52  16.42   7.80  11.22   8.52   7.32   5.06   \n",
      "825   29.08  26.48  23.28  21.68  17.58  15.98  12.38   9.68   8.48   6.22   \n",
      "826   30.87  28.27  25.07  23.47  19.37  17.77  14.17  11.47  10.27   8.01   \n",
      "827   32.53  29.93  26.73  25.13  21.03  19.43  15.83  13.13  11.93   9.43   \n",
      "829   36.32  33.72  30.52  28.92  24.82  23.22  19.62  16.92  15.72  13.26   \n",
      "830   38.27  35.67  32.47  30.87  26.77  25.17  21.57  18.87  17.67  15.17   \n",
      "831   39.24  36.64  33.44  31.84  27.74  26.14  22.54  19.84  18.64  16.15   \n",
      "\n",
      "id_2    822    823    824    825    826    827    829    830    831  \n",
      "id_1                                                                 \n",
      "801   24.67  26.53  27.92  29.08  30.87  32.53  36.32  38.27  39.24  \n",
      "802   22.07  23.93  25.32  26.48  28.27  29.93  33.72  35.67  36.64  \n",
      "803   18.87  20.73  22.12  23.28  25.07  26.73  30.52  32.47  33.44  \n",
      "804   17.27  19.13  20.52  21.68  23.47  25.13  28.92  30.87  31.84  \n",
      "805   13.17  15.03  16.42  17.58  19.37  21.03  24.82  26.77  27.74  \n",
      "806   11.57  13.43  14.82  15.98  17.77  19.43  23.22  25.17  26.14  \n",
      "807    7.97   9.83  11.22  12.38  14.17  15.83  19.62  21.57  22.54  \n",
      "808    5.27   7.13   8.52   9.68  11.47  13.13  16.92  18.87  19.84  \n",
      "809    4.07   5.93   7.32   8.48  10.27  11.93  15.72  17.67  18.64  \n",
      "821    1.80   3.67   5.06   6.22   8.01   9.43  13.26  15.17  16.15  \n",
      "822    0.00   2.21   3.60   4.76   6.55   8.00  11.81  13.74  14.68  \n",
      "823    2.21   0.00   1.79   2.94   4.74   6.15  10.00  11.89  12.87  \n",
      "824    3.60   1.79   0.00   1.71   3.50   4.92   8.77  10.66  11.64  \n",
      "825    4.76   2.94   1.71   0.00   2.20   3.65   7.46   9.35  10.33  \n",
      "826    6.55   4.74   3.50   2.20   0.00   2.05   5.81   7.71   8.69  \n",
      "827    8.00   6.15   4.92   3.65   2.05   0.00   4.14   6.06   7.04  \n",
      "829   11.81  10.00  21.40   7.46   5.81   4.14   0.00   2.38   3.36  \n",
      "830   13.74  11.89  10.66   0.00   7.71   6.06   2.38   0.00   1.39  \n",
      "831   14.68  12.87  11.64  10.33   8.69   7.04   3.36   1.39   0.00  \n"
     ]
    }
   ],
   "source": [
    "dataset_path = 'dataset-1.csv'\n",
    "result_matrix = generate_car_matrix(dataset_path)\n",
    "print(result_matrix)\n"
   ]
  },
  {
   "cell_type": "markdown",
   "id": "c499509a-e69d-48f7-bb22-e283e96ad382",
   "metadata": {},
   "source": [
    "# Q.2 type count"
   ]
  },
  {
   "cell_type": "code",
   "execution_count": 7,
   "id": "752753ae-8664-46b2-af37-9ebd4978ad1e",
   "metadata": {},
   "outputs": [],
   "source": [
    "\n",
    "\n",
    "def get_type_count(dataset_path):\n",
    "    \n",
    "    df = pd.read_csv(dataset_path)\n",
    "\n",
    "    \n",
    "    df['car_type'] = pd.cut(df['car'], bins=[float('-inf'), 15, 25, float('inf')],\n",
    "                            labels=['low', 'medium', 'high'], right=False)\n",
    "\n",
    "    \n",
    "    type_count = df['car_type'].value_counts().to_dict()\n",
    "\n",
    "    \n",
    "    type_count = dict(sorted(type_count.items()))\n",
    "\n",
    "    return type_count\n",
    "\n",
    "\n"
   ]
  },
  {
   "cell_type": "code",
   "execution_count": 57,
   "id": "7e6cff8b-d491-427e-a64b-a1a5715f1940",
   "metadata": {},
   "outputs": [
    {
     "name": "stdout",
     "output_type": "stream",
     "text": [
      "Car type with theire counts:\n",
      "{'high': 56, 'low': 196, 'medium': 89}\n"
     ]
    }
   ],
   "source": [
    "\n",
    "dataset_path = 'dataset-1.csv'\n",
    "result_type_count = get_type_count(dataset_path)\n",
    "print(\"Car type with theire counts:\")\n",
    "print(result_type_count)\n"
   ]
  },
  {
   "cell_type": "markdown",
   "id": "68092bcc-6b28-4335-a49e-2d40025a2ef0",
   "metadata": {},
   "source": [
    "# Q.3 get bus indexes"
   ]
  },
  {
   "cell_type": "code",
   "execution_count": 4,
   "id": "20fa4a24-582d-4040-8b7c-13ad5fb0fe87",
   "metadata": {},
   "outputs": [],
   "source": [
    "\n",
    "\n",
    "def get_bus_indexes(dataset_path):\n",
    "    \n",
    "    df = pd.read_csv(dataset_path)\n",
    "\n",
    "    \n",
    "    bus_mean = df['bus'].mean()\n",
    "\n",
    "    \n",
    "    bus_indexes = df[df['bus'] > 2 * bus_mean].index.tolist()\n",
    "\n",
    "    \n",
    "    bus_indexes.sort()\n",
    "\n",
    "    return bus_indexes\n",
    "\n"
   ]
  },
  {
   "cell_type": "code",
   "execution_count": 8,
   "id": "49346ebe-6d03-409c-b12b-a46bd467d245",
   "metadata": {},
   "outputs": [
    {
     "name": "stdout",
     "output_type": "stream",
     "text": [
      "bus indexes are : [2, 7, 12, 17, 25, 30, 54, 64, 70, 97, 144, 145, 149, 154, 160, 201, 206, 210, 215, 234, 235, 245, 250, 309, 314, 319, 322, 323, 334, 340]\n"
     ]
    }
   ],
   "source": [
    "dataset_path = 'dataset-1.csv'\n",
    "bus_indexes = get_bus_indexes(dataset_path)\n",
    "print(\"bus indexes are :\",bus_indexes)"
   ]
  },
  {
   "cell_type": "code",
   "execution_count": 9,
   "id": "96bea796-24f3-4424-9d3a-3084b56c765d",
   "metadata": {},
   "outputs": [],
   "source": [
    "\n",
    "def filter_routes(dataset_path):\n",
    "    \n",
    "    df = pd.read_csv(dataset_path)\n",
    "\n",
    "   \n",
    "    avg_truck_by_route = df.groupby('route')['truck'].mean()\n",
    "\n",
    "    \n",
    "    filtered_routes = avg_truck_by_route[avg_truck_by_route > 7].index.tolist()\n",
    "\n",
    "    filtered_routes.sort()\n",
    "\n",
    "    return filtered_routes\n",
    "\n"
   ]
  },
  {
   "cell_type": "code",
   "execution_count": 10,
   "id": "31a1f459-7242-4195-8b77-258d352475d9",
   "metadata": {},
   "outputs": [
    {
     "name": "stdout",
     "output_type": "stream",
     "text": [
      "filterd route :  [1, 2, 3, 4, 5, 6, 7, 8, 9, 10]\n"
     ]
    }
   ],
   "source": [
    "\n",
    "dataset_path = 'dataset-1.csv'\n",
    "result_filtered_routes = filter_routes(dataset_path)\n",
    "print(\"filterd route : \",result_filtered_routes)\n"
   ]
  },
  {
   "cell_type": "code",
   "execution_count": 11,
   "id": "291d0700-c5f4-48cc-b6a6-b14f106698d2",
   "metadata": {},
   "outputs": [],
   "source": [
    "\n",
    "def multiply_matrix(input_matrix):\n",
    "   \n",
    "    modified_matrix = input_matrix.copy()\n",
    "\n",
    "    \n",
    "    modified_matrix = modified_matrix.applymap(lambda x: x * 0.75 if x > 20 else x * 1.25)\n",
    "\n",
    "    \n",
    "    modified_matrix = modified_matrix.round(1)\n",
    "\n",
    "    return modified_matrix\n",
    "\n"
   ]
  },
  {
   "cell_type": "code",
   "execution_count": 18,
   "id": "8e77a4fd-8c11-486c-a232-fc8d49e6f003",
   "metadata": {},
   "outputs": [
    {
     "name": "stdout",
     "output_type": "stream",
     "text": [
      "Modifed matrix :\n",
      "\n",
      "\n",
      "id_2   801   802   803   804   805   806   807   808   809   821   822   823  \\\n",
      "id_1                                                                           \n",
      "801    0.0   3.5   7.5   9.6  14.6  16.8  21.1  24.5  15.8  17.6  18.5  19.9   \n",
      "802    3.5   0.0   4.2   6.5  11.5  13.6  17.9  21.4  23.1  15.7  16.6  17.9   \n",
      "803    7.5   4.2   0.0   2.5   7.5   9.6  13.9  17.4  19.1  22.2  23.6  15.5   \n",
      "804    9.6   6.5   2.5   0.0   5.5   7.6  11.9  15.4  17.1  20.2  21.6  23.9   \n",
      "805   14.6  11.5   7.5   5.5   0.0   2.5   6.8  10.2  12.0  15.0  16.5  18.8   \n",
      "806   16.8  13.6   9.6   7.6   2.5   0.0   4.8   8.2  10.0  13.0  14.5  16.8   \n",
      "807   21.1  17.9  13.9  11.9   6.8   4.8   0.0   3.6   5.4   8.5  10.0  12.3   \n",
      "808   24.5  21.4  17.4  15.4  10.2   8.2   3.6   0.0   2.1   5.2   6.6   8.9   \n",
      "809   15.8  23.1  19.1  17.1  12.0  10.0   5.4   2.1   0.0   3.6   5.1   7.4   \n",
      "821   17.6  15.7  22.2  20.2  15.0  13.0   8.5   5.2   3.6   0.0   2.2   4.6   \n",
      "822   18.5  16.6  23.6  21.6  16.5  14.5  10.0   6.6   5.1   2.2   0.0   2.8   \n",
      "823   19.9  17.9  15.5  23.9  18.8  16.8  12.3   8.9   7.4   4.6   2.8   0.0   \n",
      "824   20.9  19.0  16.6  15.4  20.5   9.8  14.0  10.6   9.2   6.3   4.5   2.2   \n",
      "825   21.8  19.9  17.5  16.3  22.0  20.0  15.5  12.1  10.6   7.8   5.9   3.7   \n",
      "826   23.2  21.2  18.8  17.6  24.2  22.2  17.7  14.3  12.8  10.0   8.2   5.9   \n",
      "827   24.4  22.4  20.0  18.8  15.8  24.3  19.8  16.4  14.9  11.8  10.0   7.7   \n",
      "829   27.2  25.3  22.9  21.7  18.6  17.4  24.5  21.2  19.7  16.6  14.8  12.5   \n",
      "830   28.7  26.8  24.4  23.2  20.1  18.9  16.2  23.6  22.1  19.0  17.2  14.9   \n",
      "831   29.4  27.5  25.1  23.9  20.8  19.6  16.9  24.8  23.3  20.2  18.4  16.1   \n",
      "\n",
      "id_2   824   825   826   827   829   830   831  \n",
      "id_1                                            \n",
      "801   20.9  21.8  23.2  24.4  27.2  28.7  29.4  \n",
      "802   19.0  19.9  21.2  22.4  25.3  26.8  27.5  \n",
      "803   16.6  17.5  18.8  20.0  22.9  24.4  25.1  \n",
      "804   15.4  16.3  17.6  18.8  21.7  23.2  23.9  \n",
      "805   20.5  22.0  24.2  15.8  18.6  20.1  20.8  \n",
      "806   18.5  20.0  22.2  24.3  17.4  18.9  19.6  \n",
      "807   14.0  15.5  17.7  19.8  24.5  16.2  16.9  \n",
      "808   10.6  12.1  14.3  16.4  21.2  23.6  24.8  \n",
      "809    9.2  10.6  12.8  14.9  19.7  22.1  23.3  \n",
      "821    6.3   7.8  10.0  11.8  16.6  19.0  20.2  \n",
      "822    4.5   5.9   8.2  10.0  14.8  17.2  18.4  \n",
      "823    2.2   3.7   5.9   7.7  12.5  14.9  16.1  \n",
      "824    0.0   2.1   4.4   6.2  11.0  13.3  14.6  \n",
      "825    2.1   0.0   2.8   4.6   9.3  11.7  12.9  \n",
      "826    4.4   2.8   0.0   2.6   7.3   9.6  10.9  \n",
      "827    6.2   4.6   2.6   0.0   5.2   7.6   8.8  \n",
      "829   16.0   9.3   7.3   5.2   0.0   3.0   4.2  \n",
      "830   13.3   0.0   9.6   7.6   3.0   0.0   1.7  \n",
      "831   14.6  12.9  10.9   8.8   4.2   1.7   0.0  \n"
     ]
    },
    {
     "name": "stderr",
     "output_type": "stream",
     "text": [
      "C:\\Users\\Shisht\\AppData\\Local\\Temp\\ipykernel_17076\\3625299039.py:6: FutureWarning: DataFrame.applymap has been deprecated. Use DataFrame.map instead.\n",
      "  modified_matrix = modified_matrix.applymap(lambda x: x * 0.75 if x > 20 else x * 1.25)\n"
     ]
    }
   ],
   "source": [
    "# Example usage:\n",
    "# Assuming 'result_matrix' is the DataFrame obtained from Question 1\n",
    "result_matrix = generate_car_matrix('dataset-1.csv')\n",
    "modified_result_matrix = multiply_matrix(result_matrix)\n",
    "print(\"Modifed matrix :\\n\\n\")\n",
    "print(modified_result_matrix)\n"
   ]
  },
  {
   "cell_type": "markdown",
   "id": "ff00992b-8809-4077-94ec-9412a467a839",
   "metadata": {},
   "source": [
    "# Quewstion 6"
   ]
  },
  {
   "cell_type": "code",
   "execution_count": 68,
   "id": "c208a7eb-6995-44f7-8bfe-eb978defe24a",
   "metadata": {},
   "outputs": [],
   "source": [
    "df1=pd.read_csv(\"dataset-2.csv\")"
   ]
  },
  {
   "cell_type": "code",
   "execution_count": 69,
   "id": "57be7f97-043a-4201-91a7-b5ff5ae731a0",
   "metadata": {},
   "outputs": [
    {
     "data": {
      "text/html": [
       "<div>\n",
       "<style scoped>\n",
       "    .dataframe tbody tr th:only-of-type {\n",
       "        vertical-align: middle;\n",
       "    }\n",
       "\n",
       "    .dataframe tbody tr th {\n",
       "        vertical-align: top;\n",
       "    }\n",
       "\n",
       "    .dataframe thead th {\n",
       "        text-align: right;\n",
       "    }\n",
       "</style>\n",
       "<table border=\"1\" class=\"dataframe\">\n",
       "  <thead>\n",
       "    <tr style=\"text-align: right;\">\n",
       "      <th></th>\n",
       "      <th>id</th>\n",
       "      <th>name</th>\n",
       "      <th>id_2</th>\n",
       "      <th>startDay</th>\n",
       "      <th>startTime</th>\n",
       "      <th>endDay</th>\n",
       "      <th>endTime</th>\n",
       "      <th>able2Hov2</th>\n",
       "      <th>able2Hov3</th>\n",
       "      <th>able3Hov2</th>\n",
       "      <th>able3Hov3</th>\n",
       "      <th>able5Hov2</th>\n",
       "      <th>able5Hov3</th>\n",
       "      <th>able4Hov2</th>\n",
       "      <th>able4Hov3</th>\n",
       "    </tr>\n",
       "  </thead>\n",
       "  <tbody>\n",
       "    <tr>\n",
       "      <th>0</th>\n",
       "      <td>1040000</td>\n",
       "      <td>Montgomery</td>\n",
       "      <td>-1</td>\n",
       "      <td>Monday</td>\n",
       "      <td>05:00:00</td>\n",
       "      <td>Wednesday</td>\n",
       "      <td>10:00:00</td>\n",
       "      <td>3.0</td>\n",
       "      <td>3.0</td>\n",
       "      <td>-1.0</td>\n",
       "      <td>-1</td>\n",
       "      <td>3</td>\n",
       "      <td>3</td>\n",
       "      <td>3</td>\n",
       "      <td>3</td>\n",
       "    </tr>\n",
       "    <tr>\n",
       "      <th>1</th>\n",
       "      <td>1040010</td>\n",
       "      <td>Black</td>\n",
       "      <td>-1</td>\n",
       "      <td>Monday</td>\n",
       "      <td>10:00:00</td>\n",
       "      <td>Friday</td>\n",
       "      <td>15:00:00</td>\n",
       "      <td>6.0</td>\n",
       "      <td>6.0</td>\n",
       "      <td>-1.0</td>\n",
       "      <td>-1</td>\n",
       "      <td>6</td>\n",
       "      <td>6</td>\n",
       "      <td>6</td>\n",
       "      <td>6</td>\n",
       "    </tr>\n",
       "    <tr>\n",
       "      <th>2</th>\n",
       "      <td>1040020</td>\n",
       "      <td>Emerald</td>\n",
       "      <td>-1</td>\n",
       "      <td>Thursday</td>\n",
       "      <td>15:00:00</td>\n",
       "      <td>Friday</td>\n",
       "      <td>19:00:00</td>\n",
       "      <td>3.0</td>\n",
       "      <td>3.0</td>\n",
       "      <td>-1.0</td>\n",
       "      <td>-1</td>\n",
       "      <td>3</td>\n",
       "      <td>3</td>\n",
       "      <td>3</td>\n",
       "      <td>3</td>\n",
       "    </tr>\n",
       "    <tr>\n",
       "      <th>3</th>\n",
       "      <td>1040030</td>\n",
       "      <td>Foley</td>\n",
       "      <td>-1</td>\n",
       "      <td>Monday</td>\n",
       "      <td>19:00:00</td>\n",
       "      <td>Friday</td>\n",
       "      <td>23:59:59</td>\n",
       "      <td>6.0</td>\n",
       "      <td>6.0</td>\n",
       "      <td>-1.0</td>\n",
       "      <td>-1</td>\n",
       "      <td>6</td>\n",
       "      <td>6</td>\n",
       "      <td>6</td>\n",
       "      <td>6</td>\n",
       "    </tr>\n",
       "    <tr>\n",
       "      <th>4</th>\n",
       "      <td>1050000</td>\n",
       "      <td>Whittier</td>\n",
       "      <td>1050001</td>\n",
       "      <td>Saturday</td>\n",
       "      <td>00:00:00</td>\n",
       "      <td>Sunday</td>\n",
       "      <td>23:59:59</td>\n",
       "      <td>6.0</td>\n",
       "      <td>6.0</td>\n",
       "      <td>NaN</td>\n",
       "      <td>-1</td>\n",
       "      <td>6</td>\n",
       "      <td>6</td>\n",
       "      <td>6</td>\n",
       "      <td>6</td>\n",
       "    </tr>\n",
       "  </tbody>\n",
       "</table>\n",
       "</div>"
      ],
      "text/plain": [
       "        id        name     id_2  startDay startTime     endDay   endTime  \\\n",
       "0  1040000  Montgomery       -1    Monday  05:00:00  Wednesday  10:00:00   \n",
       "1  1040010       Black       -1    Monday  10:00:00     Friday  15:00:00   \n",
       "2  1040020     Emerald       -1  Thursday  15:00:00     Friday  19:00:00   \n",
       "3  1040030       Foley       -1    Monday  19:00:00     Friday  23:59:59   \n",
       "4  1050000    Whittier  1050001  Saturday  00:00:00     Sunday  23:59:59   \n",
       "\n",
       "   able2Hov2  able2Hov3  able3Hov2  able3Hov3  able5Hov2  able5Hov3  \\\n",
       "0        3.0        3.0       -1.0         -1          3          3   \n",
       "1        6.0        6.0       -1.0         -1          6          6   \n",
       "2        3.0        3.0       -1.0         -1          3          3   \n",
       "3        6.0        6.0       -1.0         -1          6          6   \n",
       "4        6.0        6.0        NaN         -1          6          6   \n",
       "\n",
       "   able4Hov2  able4Hov3  \n",
       "0          3          3  \n",
       "1          6          6  \n",
       "2          3          3  \n",
       "3          6          6  \n",
       "4          6          6  "
      ]
     },
     "execution_count": 69,
     "metadata": {},
     "output_type": "execute_result"
    }
   ],
   "source": [
    "df1.head()"
   ]
  },
  {
   "cell_type": "code",
   "execution_count": 73,
   "id": "59e7867d-d447-40c1-af85-a6f2c6a0ac1a",
   "metadata": {},
   "outputs": [
    {
     "data": {
      "text/plain": [
       "<bound method NDFrame.describe of             id        name     id_2  startDay startTime     endDay   endTime  \\\n",
       "0      1040000  Montgomery       -1    Monday  05:00:00  Wednesday  10:00:00   \n",
       "1      1040010       Black       -1    Monday  10:00:00     Friday  15:00:00   \n",
       "2      1040020     Emerald       -1  Thursday  15:00:00     Friday  19:00:00   \n",
       "3      1040030       Foley       -1    Monday  19:00:00     Friday  23:59:59   \n",
       "4      1050000    Whittier  1050001  Saturday  00:00:00     Sunday  23:59:59   \n",
       "...        ...         ...      ...       ...       ...        ...       ...   \n",
       "39509  1031012     Baldwin  1031030    Monday  19:00:00     Friday  23:59:59   \n",
       "39510  1031012     Baldwin  1031032  Saturday  00:00:00     Sunday  23:59:59   \n",
       "39511  1031014    Thickson  1031016  Saturday  00:00:00     Sunday  23:59:59   \n",
       "39512  1031014    Thickson  1031018    Monday  05:00:00  Wednesday  10:00:00   \n",
       "39513  1031014    Thickson  1031020    Monday  10:00:00     Friday  15:00:00   \n",
       "\n",
       "       able2Hov2  able2Hov3  able3Hov2  able3Hov3  able5Hov2  able5Hov3  \\\n",
       "0            3.0        3.0       -1.0         -1          3          3   \n",
       "1            6.0        6.0       -1.0         -1          6          6   \n",
       "2            3.0        3.0       -1.0         -1          3          3   \n",
       "3            6.0        6.0       -1.0         -1          6          6   \n",
       "4            6.0        6.0        NaN         -1          6          6   \n",
       "...          ...        ...        ...        ...        ...        ...   \n",
       "39509       11.0       11.0        4.0          4         11         11   \n",
       "39510       11.0       11.0        4.0          4         11         11   \n",
       "39511       11.0       11.0        4.0          4         11         11   \n",
       "39512        8.0        8.0        4.0          4          8          8   \n",
       "39513       11.0       11.0        4.0          4         11         11   \n",
       "\n",
       "       able4Hov2  able4Hov3  \n",
       "0              3          3  \n",
       "1              6          6  \n",
       "2              3          3  \n",
       "3              6          6  \n",
       "4              6          6  \n",
       "...          ...        ...  \n",
       "39509         11         11  \n",
       "39510         11         11  \n",
       "39511         11         11  \n",
       "39512          8          8  \n",
       "39513         11         11  \n",
       "\n",
       "[39514 rows x 15 columns]>"
      ]
     },
     "execution_count": 73,
     "metadata": {},
     "output_type": "execute_result"
    }
   ],
   "source": [
    "df1.describe"
   ]
  },
  {
   "cell_type": "code",
   "execution_count": 75,
   "id": "63154154-9fae-4e98-a601-9c0acf0b35a7",
   "metadata": {},
   "outputs": [],
   "source": [
    "\n",
    "\n"
   ]
  },
  {
   "cell_type": "code",
   "execution_count": null,
   "id": "30cfdc66-bea5-4107-ab1f-4bfc6ff98ff3",
   "metadata": {},
   "outputs": [],
   "source": []
  },
  {
   "cell_type": "code",
   "execution_count": null,
   "id": "aa2004bd-4182-4789-94c0-e67c5ed9eb23",
   "metadata": {},
   "outputs": [],
   "source": []
  },
  {
   "cell_type": "code",
   "execution_count": null,
   "id": "2b3a9d3c-dab6-4676-b5c9-1c211a4fab37",
   "metadata": {},
   "outputs": [],
   "source": []
  },
  {
   "cell_type": "code",
   "execution_count": null,
   "id": "b7851f91-54ea-4bd8-aebc-15737c63a079",
   "metadata": {},
   "outputs": [],
   "source": []
  },
  {
   "cell_type": "code",
   "execution_count": null,
   "id": "8a774480-75d2-439b-83f2-a4b03c4e7bb9",
   "metadata": {},
   "outputs": [],
   "source": []
  }
 ],
 "metadata": {
  "kernelspec": {
   "display_name": "Python 3 (ipykernel)",
   "language": "python",
   "name": "python3"
  },
  "language_info": {
   "codemirror_mode": {
    "name": "ipython",
    "version": 3
   },
   "file_extension": ".py",
   "mimetype": "text/x-python",
   "name": "python",
   "nbconvert_exporter": "python",
   "pygments_lexer": "ipython3",
   "version": "3.11.3"
  }
 },
 "nbformat": 4,
 "nbformat_minor": 5
}
